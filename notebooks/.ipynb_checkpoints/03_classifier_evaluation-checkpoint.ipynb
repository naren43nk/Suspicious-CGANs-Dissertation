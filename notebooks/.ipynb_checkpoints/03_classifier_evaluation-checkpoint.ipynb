{
 "cells": [
  {
   "cell_type": "markdown",
   "id": "af30edcc-a403-4693-9080-df1098204027",
   "metadata": {},
   "source": [
    "### Phase 3: Detection Performance Evaluation (Real vs Synthetic)\n",
    "\n",
    "Goal: Evaluate CGAN’s impact on AML detection performance (F1, AUC, Recall, Confusion Matrix, Bias)"
   ]
  },
  {
   "cell_type": "markdown",
   "id": "152a072f-b10b-4f2d-bfc5-1d42404315dc",
   "metadata": {},
   "source": [
    "### Block 1: Imports and Setup"
   ]
  },
  {
   "cell_type": "code",
   "execution_count": 91,
   "id": "0c192fd1-0f27-459e-b8ec-4479e367d52a",
   "metadata": {},
   "outputs": [],
   "source": [
    "import pandas as pd\n",
    "import numpy as np\n",
    "import matplotlib.pyplot as plt\n",
    "import seaborn as sns\n",
    "from sklearn.model_selection import train_test_split\n",
    "from sklearn.preprocessing import LabelEncoder, MinMaxScaler\n",
    "from sklearn.metrics import classification_report, confusion_matrix, f1_score, roc_auc_score\n",
    "from xgboost import XGBClassifier\n",
    "from sklearn.utils import resample\n",
    "import joblib\n",
    "import warnings; warnings.filterwarnings(\"ignore\")\n"
   ]
  },
  {
   "cell_type": "markdown",
   "id": "eb91a9c9-9d5e-4b84-85ec-6315f7c248e5",
   "metadata": {},
   "source": [
    "This block imports essential packages for preprocessing, modeling, oversampling, and evaluation.\n"
   ]
  },
  {
   "cell_type": "markdown",
   "id": "51a78788-c8c0-4e49-9e9d-55f226b4dbc2",
   "metadata": {},
   "source": [
    "### Block 2:Load and Prepare Real + Synthetic Data"
   ]
  },
  {
   "cell_type": "code",
   "execution_count": 53,
   "id": "d5e4cf7b-e533-40de-bcb1-d760f7e0ecb3",
   "metadata": {},
   "outputs": [],
   "source": [
    "real = pd.read_csv(\"../data/clean_suspicious.csv\")\n",
    "synth = pd.read_csv(\"../data/synthetic_cgan.csv\")\n"
   ]
  },
  {
   "cell_type": "markdown",
   "id": "d635b3e8-237d-4aab-bfe7-d43948bf095f",
   "metadata": {},
   "source": [
    "We load the real and synthetic datasets for model training and evaluation.\n",
    "\n"
   ]
  },
  {
   "cell_type": "markdown",
   "id": "2afd170d-edc2-42dc-8f14-ae78ebf0b834",
   "metadata": {},
   "source": [
    "### Block 3: Preprocessing\n",
    "\n"
   ]
  },
  {
   "cell_type": "code",
   "execution_count": 106,
   "id": "e208fc95-40b9-4835-a6dc-429a22589909",
   "metadata": {},
   "outputs": [],
   "source": [
    "features = ['Amount', 'Payment_currency', 'Received_currency',\n",
    "            'Sender_bank_location', 'Receiver_bank_location',\n",
    "            'Payment_type', 'Year', 'Month']\n",
    "label_col = 'typology_code'\n",
    "\n",
    "le = LabelEncoder()\n",
    "real[label_col] = le.fit_transform(real[label_col])\n",
    "synth[label_col] = le.transform(synth[label_col])\n",
    "\n",
    "scaler = MinMaxScaler()\n",
    "real[features] = scaler.fit_transform(real[features])\n",
    "synth[features] = scaler.transform(synth[features])"
   ]
  },
  {
   "cell_type": "markdown",
   "id": "e9ea6bc3-eea3-46d8-b1e3-cda0ceadd317",
   "metadata": {},
   "source": [
    "We apply Label Encoding on the target variable and MinMaxScaler on features for consistency.\n"
   ]
  },
  {
   "cell_type": "markdown",
   "id": "6a4eeeef-3699-4ae8-9653-9daf3cd0b9c2",
   "metadata": {},
   "source": [
    "### Block 4: Train-Test Split (Real Only)"
   ]
  },
  {
   "cell_type": "code",
   "execution_count": 107,
   "id": "efade278-6999-4e19-912f-b0a4692bc076",
   "metadata": {},
   "outputs": [],
   "source": [
    "X_real = real[features]\n",
    "y_real = real[label_col]\n",
    "X_train, X_test, y_train, y_test = train_test_split(X_real, y_real, test_size=0.3, stratify=y_real, random_state=42)\n"
   ]
  },
  {
   "cell_type": "markdown",
   "id": "f038d0da-05ab-4f58-a71e-eb4defe1eb8d",
   "metadata": {},
   "source": [
    "We split the real dataset to evaluate all models on the same test set.\n"
   ]
  },
  {
   "cell_type": "markdown",
   "id": "c40fda01-04e5-44b9-bd0e-ff582b0aaac1",
   "metadata": {},
   "source": [
    "### Block 5: Train on Real Only"
   ]
  },
  {
   "cell_type": "code",
   "execution_count": 108,
   "id": "c2bfca6e-558f-4f81-9bb8-84b73d3592a4",
   "metadata": {},
   "outputs": [],
   "source": [
    "model_real = XGBClassifier(eval_metric='mlogloss', use_label_encoder=False)\n",
    "model_real.fit(X_train, y_train)\n",
    "pred_real = model_real.predict(X_test)\n"
   ]
  },
  {
   "cell_type": "markdown",
   "id": "14c20207-33c8-48e5-b38f-40f922796b68",
   "metadata": {},
   "source": [
    "Training the baseline model using only real data.\n"
   ]
  },
  {
   "cell_type": "markdown",
   "id": "c361c468-e13e-4090-b67e-6b527c66b0e2",
   "metadata": {},
   "source": [
    "### Block 6: Evaluate Real Only"
   ]
  },
  {
   "cell_type": "code",
   "execution_count": 109,
   "id": "3a7693ce-a74f-4213-ba2d-07a00c27a78a",
   "metadata": {},
   "outputs": [
    {
     "name": "stdout",
     "output_type": "stream",
     "text": [
      "\n",
      "🎯 Real Only Results\n",
      "              precision    recall  f1-score   support\n",
      "\n",
      "           0       0.00      0.00      0.00        17\n",
      "           1       0.00      0.00      0.00         8\n",
      "           2       0.00      0.00      0.00         7\n",
      "           3       1.00      0.41      0.58        37\n",
      "           4       0.00      0.00      0.00         5\n",
      "           5       1.00      0.24      0.39        29\n",
      "           6       0.00      0.00      0.00        11\n",
      "           7       0.00      0.00      0.00         4\n",
      "           8       0.00      0.00      0.00        10\n",
      "           9       0.00      0.00      0.00         9\n",
      "          10       0.00      0.00      0.00        23\n",
      "          11       1.00      1.00      1.00      7507\n",
      "          12       0.99      0.98      0.99     10255\n",
      "          13       0.43      0.42      0.42     70507\n",
      "          14       0.43      0.72      0.54     77459\n",
      "          15       0.00      0.00      0.00      1397\n",
      "          16       0.33      0.00      0.00     17677\n",
      "          17       0.33      0.36      0.34      3870\n",
      "          18       0.82      0.02      0.04      6796\n",
      "          19       0.22      0.01      0.01      1818\n",
      "          20       0.84      0.68      0.75    116307\n",
      "          21       0.19      0.01      0.01       693\n",
      "          22       0.00      0.00      0.00         2\n",
      "          23       0.00      0.00      0.00         3\n",
      "          24       0.00      0.00      0.00         9\n",
      "          25       0.00      0.00      0.00        24\n",
      "          26       0.00      0.00      0.00        19\n",
      "          27       0.50      0.01      0.03        70\n",
      "\n",
      "    accuracy                           0.58    314573\n",
      "   macro avg       0.29      0.17      0.18    314573\n",
      "weighted avg       0.61      0.58      0.57    314573\n",
      "\n",
      "F1: 0.1820, AUC: 0.8495\n"
     ]
    }
   ],
   "source": [
    "print(\"\\n🎯 Real Only Results\")\n",
    "print(classification_report(y_test, pred_real))\n",
    "f1_real = f1_score(y_test, pred_real, average='macro')\n",
    "auc_real = roc_auc_score(y_test, model_real.predict_proba(X_test), multi_class='ovr')\n",
    "print(f\"F1: {f1_real:.4f}, AUC: {auc_real:.4f}\")\n"
   ]
  },
  {
   "cell_type": "markdown",
   "id": "9c197727-a0c1-4e06-8f39-164d3cc1c394",
   "metadata": {},
   "source": [
    "Evaluating macro F1 and multiclass AUC for the baseline model.\n"
   ]
  },
  {
   "cell_type": "markdown",
   "id": "52fc5557-df16-4987-af78-a0345613814f",
   "metadata": {},
   "source": [
    "### Block 7: Prepare CGAN Data"
   ]
  },
  {
   "cell_type": "code",
   "execution_count": 110,
   "id": "31a13b34-5cd6-4804-89f1-5a3be4008a18",
   "metadata": {},
   "outputs": [],
   "source": [
    "X_cgan = synth[features]\n",
    "y_cgan = synth[label_col]\n"
   ]
  },
  {
   "cell_type": "markdown",
   "id": "505756b4-b4c1-431c-97c7-a8bb444f0275",
   "metadata": {},
   "source": [
    "Extracting features and labels from synthetic CGAN data.\n"
   ]
  },
  {
   "cell_type": "markdown",
   "id": "d86b80e3-afb7-4192-9e67-a21a230e0d0f",
   "metadata": {},
   "source": [
    "### Block 8: Combine Real + CGAN for Augmented Training"
   ]
  },
  {
   "cell_type": "code",
   "execution_count": 111,
   "id": "c5d2d1f7-bc3c-48aa-bf3d-2cccb43f97ef",
   "metadata": {},
   "outputs": [],
   "source": [
    "valid_labels = np.intersect1d(np.unique(y_train), np.unique(y_cgan))\n",
    "mask_valid = y_cgan.isin(valid_labels)\n",
    "X_cgan_valid = X_cgan[mask_valid]\n",
    "y_cgan_valid = y_cgan[mask_valid]\n",
    "\n",
    "X_aug = pd.concat([X_train, X_cgan_valid], ignore_index=True)\n",
    "y_aug = pd.concat([y_train, y_cgan_valid], ignore_index=True)\n"
   ]
  },
  {
   "cell_type": "markdown",
   "id": "49d679fd-c8a3-4ab6-b47a-03c2412a9d5d",
   "metadata": {},
   "source": [
    "Augmenting real training data with CGAN-generated samples.\n"
   ]
  },
  {
   "cell_type": "markdown",
   "id": "de7496f5-be2f-49d0-93c9-da48beefdc60",
   "metadata": {},
   "source": [
    "### Block 9: Train on Real + CGAN"
   ]
  },
  {
   "cell_type": "code",
   "execution_count": 112,
   "id": "299503de-d0dc-4e29-94a0-7df73d2aa8b5",
   "metadata": {},
   "outputs": [],
   "source": [
    "model_aug = XGBClassifier(eval_metric='mlogloss', use_label_encoder=False)\n",
    "model_aug.fit(X_aug, y_aug)\n",
    "pred_aug = model_aug.predict(X_test)\n"
   ]
  },
  {
   "cell_type": "markdown",
   "id": "84ccd260-a5e3-443f-b610-b538f9bd0941",
   "metadata": {},
   "source": [
    "Training classifier on combined real + synthetic data.\n"
   ]
  },
  {
   "cell_type": "markdown",
   "id": "a4622e1c-84bb-4796-930a-7e9bc543a689",
   "metadata": {},
   "source": [
    "### Block 10: Evaluate Real + CGAN"
   ]
  },
  {
   "cell_type": "code",
   "execution_count": 113,
   "id": "16e51922-ac4b-4911-b200-ba7faa2c2c64",
   "metadata": {},
   "outputs": [
    {
     "name": "stdout",
     "output_type": "stream",
     "text": [
      "\n",
      "🎯 Real + CGAN Results\n",
      "              precision    recall  f1-score   support\n",
      "\n",
      "           0       0.00      0.00      0.00        17\n",
      "           1       0.00      0.00      0.00         8\n",
      "           2       0.00      0.00      0.00         7\n",
      "           3       1.00      0.35      0.52        37\n",
      "           4       0.00      0.00      0.00         5\n",
      "           5       1.00      0.17      0.29        29\n",
      "           6       0.00      0.00      0.00        11\n",
      "           7       0.00      0.00      0.00         4\n",
      "           8       0.00      0.00      0.00        10\n",
      "           9       0.00      0.00      0.00         9\n",
      "          10       0.00      0.00      0.00        23\n",
      "          11       1.00      1.00      1.00      7507\n",
      "          12       0.99      0.98      0.99     10255\n",
      "          13       0.43      0.42      0.42     70507\n",
      "          14       0.43      0.71      0.54     77459\n",
      "          15       0.00      0.00      0.00      1397\n",
      "          16       0.00      0.00      0.00     17677\n",
      "          17       0.33      0.36      0.34      3870\n",
      "          18       0.84      0.02      0.04      6796\n",
      "          19       0.40      0.01      0.03      1818\n",
      "          20       0.83      0.68      0.75    116307\n",
      "          21       0.15      0.01      0.01       693\n",
      "          22       0.00      0.00      0.00         2\n",
      "          23       0.00      0.00      0.00         3\n",
      "          24       0.00      0.00      0.00         9\n",
      "          25       0.00      0.00      0.00        24\n",
      "          26       0.00      0.00      0.00        19\n",
      "          27       0.00      0.00      0.00        70\n",
      "\n",
      "    accuracy                           0.58    314573\n",
      "   macro avg       0.26      0.17      0.18    314573\n",
      "weighted avg       0.59      0.58      0.57    314573\n",
      "\n",
      "F1: 0.1759, AUC: 0.8493\n"
     ]
    }
   ],
   "source": [
    "print(\"\\n🎯 Real + CGAN Results\")\n",
    "print(classification_report(y_test, pred_aug))\n",
    "f1_aug = f1_score(y_test, pred_aug, average='macro')\n",
    "auc_aug = roc_auc_score(y_test, model_aug.predict_proba(X_test), multi_class='ovr')\n",
    "print(f\"F1: {f1_aug:.4f}, AUC: {auc_aug:.4f}\")\n"
   ]
  },
  {
   "cell_type": "markdown",
   "id": "8598cfdf-0d8a-4620-b8a2-2a3b8ddb947c",
   "metadata": {},
   "source": [
    "Measuring performance when CGAN data is used to augment training.\n"
   ]
  },
  {
   "cell_type": "markdown",
   "id": "949264a6-054a-4687-a819-bfc655e6387a",
   "metadata": {},
   "source": [
    "### Block 11: Manual SMOTE-style Upsampling for All Classes"
   ]
  },
  {
   "cell_type": "code",
   "execution_count": 114,
   "id": "901e5e4b-83a9-4155-a93c-62f1eea4ce6d",
   "metadata": {},
   "outputs": [],
   "source": [
    "df_train = X_train.copy()\n",
    "df_train['label'] = y_train\n",
    "target_size = df_train['label'].value_counts().max()\n",
    "balanced_frames = []\n",
    "for label in df_train['label'].unique():\n",
    "    df_class = df_train[df_train['label'] == label]\n",
    "    df_upsampled = resample(df_class, replace=True, n_samples=target_size, random_state=42)\n",
    "    balanced_frames.append(df_upsampled)\n",
    "df_balanced = pd.concat(balanced_frames)\n",
    "X_sm = df_balanced.drop('label', axis=1)\n",
    "y_sm = df_balanced['label']\n"
   ]
  },
  {
   "cell_type": "markdown",
   "id": "1496987a-67e1-4650-ae94-673b512a5873",
   "metadata": {},
   "source": [
    "### Block 12: Train on Real + SMOTE"
   ]
  },
  {
   "cell_type": "code",
   "execution_count": 115,
   "id": "912e8fb3-8c06-41d9-9919-1cfc04555095",
   "metadata": {},
   "outputs": [],
   "source": [
    "model_sm = XGBClassifier(eval_metric='mlogloss', use_label_encoder=False)\n",
    "model_sm.fit(X_sm, y_sm)\n",
    "pred_sm = model_sm.predict(X_test)\n"
   ]
  },
  {
   "cell_type": "markdown",
   "id": "61f8cb30-d21a-417a-9aca-dc334521f76f",
   "metadata": {},
   "source": [
    "### Block 13: Evaluate Real + SMOTE"
   ]
  },
  {
   "cell_type": "code",
   "execution_count": 116,
   "id": "e4ba01d4-9f2c-4c1c-b903-9d15b3c33a1b",
   "metadata": {},
   "outputs": [
    {
     "name": "stdout",
     "output_type": "stream",
     "text": [
      "\n",
      "🎯 Real + SMOTE Results\n",
      "              precision    recall  f1-score   support\n",
      "\n",
      "           0       0.00      0.12      0.00        17\n",
      "           1       0.00      0.00      0.00         8\n",
      "           2       0.00      0.00      0.00         7\n",
      "           3       0.02      0.51      0.03        37\n",
      "           4       0.00      0.00      0.00         5\n",
      "           5       0.01      0.17      0.01        29\n",
      "           6       0.00      0.09      0.00        11\n",
      "           7       0.00      0.00      0.00         4\n",
      "           8       0.00      0.00      0.00        10\n",
      "           9       0.00      0.00      0.00         9\n",
      "          10       0.00      0.04      0.00        23\n",
      "          11       1.00      0.83      0.91      7507\n",
      "          12       0.95      0.89      0.92     10255\n",
      "          13       0.42      0.37      0.39     70507\n",
      "          14       0.45      0.39      0.42     77459\n",
      "          15       0.01      0.09      0.02      1397\n",
      "          16       0.15      0.23      0.18     17677\n",
      "          17       0.06      0.37      0.11      3870\n",
      "          18       0.10      0.22      0.14      6796\n",
      "          19       0.03      0.05      0.03      1818\n",
      "          20       0.92      0.35      0.51    116307\n",
      "          21       0.20      0.66      0.31       693\n",
      "          22       0.00      0.00      0.00         2\n",
      "          23       0.00      0.00      0.00         3\n",
      "          24       0.00      0.22      0.01         9\n",
      "          25       0.01      0.38      0.01        24\n",
      "          26       0.00      0.05      0.00        19\n",
      "          27       0.00      0.29      0.00        70\n",
      "\n",
      "    accuracy                           0.38    314573\n",
      "   macro avg       0.15      0.23      0.14    314573\n",
      "weighted avg       0.61      0.38      0.45    314573\n",
      "\n",
      "F1: 0.1428, AUC: 0.7993\n"
     ]
    }
   ],
   "source": [
    "print(\"\\n🎯 Real + SMOTE Results\")\n",
    "print(classification_report(y_test, pred_sm))\n",
    "f1_sm = f1_score(y_test, pred_sm, average='macro')\n",
    "auc_sm = roc_auc_score(y_test, model_sm.predict_proba(X_test), multi_class='ovr')\n",
    "print(f\"F1: {f1_sm:.4f}, AUC: {auc_sm:.4f}\")\n"
   ]
  },
  {
   "cell_type": "markdown",
   "id": "2445f477-2068-4f17-baa6-f060e36002e9",
   "metadata": {},
   "source": [
    "### Block 14: TSTR (Train Synthetic, Test Real)"
   ]
  },
  {
   "cell_type": "code",
   "execution_count": 121,
   "id": "d9214be9-b294-44e5-878a-b7b2a9d5a970",
   "metadata": {},
   "outputs": [
    {
     "name": "stdout",
     "output_type": "stream",
     "text": [
      "TSTR Train Label Check: [0, 1, 2, 3, 4, 5, 6, 7, 8, 9, 10, 11, 12, 13, 14, 15, 16]\n",
      "Filtered Test Set Label Check: [0, 1, 2, 3, 4, 5, 6, 7, 8, 9, 10, 11, 12, 13, 14, 15, 16]\n"
     ]
    }
   ],
   "source": [
    "# ✅ Block 14: TSTR (Train Synthetic, Test Real) — FINAL FIX\n",
    "\n",
    "# Step 1: Filter to common labels\n",
    "synth_labels = np.unique(y_cgan)\n",
    "test_labels = np.unique(y_test)\n",
    "common_labels = np.intersect1d(synth_labels, test_labels)\n",
    "\n",
    "tstr_mask_synth = y_cgan.isin(common_labels)\n",
    "X_synth_train = X_cgan[tstr_mask_synth].reset_index(drop=True)\n",
    "y_synth_train = y_cgan[tstr_mask_synth].reset_index(drop=True)\n",
    "\n",
    "tstr_mask_test = y_test.isin(common_labels)\n",
    "X_test_tstr = X_test[tstr_mask_test].reset_index(drop=True)\n",
    "y_test_tstr = y_test[tstr_mask_test].reset_index(drop=True)\n",
    "\n",
    "# Step 2: Re-label both y_synth and y_test using new label encoder\n",
    "tstr_encoder = LabelEncoder()\n",
    "all_y = pd.concat([y_synth_train, y_test_tstr], ignore_index=True)\n",
    "tstr_encoder.fit(all_y)\n",
    "\n",
    "y_synth_train_enc = tstr_encoder.transform(y_synth_train)\n",
    "y_test_tstr_enc = tstr_encoder.transform(y_test_tstr)\n",
    "\n",
    "# Step 3: Train and Predict\n",
    "print(\"TSTR Train Label Check:\", sorted(np.unique(y_synth_train_enc)))\n",
    "print(\"Filtered Test Set Label Check:\", sorted(np.unique(y_test_tstr_enc)))\n",
    "\n",
    "model_tstr = XGBClassifier(eval_metric='mlogloss', use_label_encoder=False)\n",
    "model_tstr.fit(X_synth_train, y_synth_train_enc)\n",
    "pred_tstr = model_tstr.predict(X_test_tstr)\n"
   ]
  },
  {
   "cell_type": "markdown",
   "id": "81749e03-4303-4b39-9090-defd73002226",
   "metadata": {},
   "source": [
    "### Block 15: Evaluate TSTR"
   ]
  },
  {
   "cell_type": "code",
   "execution_count": 122,
   "id": "0c749129-e20c-4baa-89f1-a5e3e4f43cbb",
   "metadata": {},
   "outputs": [
    {
     "name": "stdout",
     "output_type": "stream",
     "text": [
      "\n",
      "🎯 TSTR Results\n",
      "              precision    recall  f1-score   support\n",
      "\n",
      "           0       0.17      0.53      0.26        17\n",
      "           1       0.01      0.12      0.02         8\n",
      "           2       0.00      0.00      0.00         7\n",
      "           3       0.00      0.00      0.00        37\n",
      "           4       0.00      0.00      0.00         5\n",
      "           5       0.00      0.00      0.00        29\n",
      "           6       0.00      0.00      0.00        11\n",
      "           7       0.00      0.00      0.00         4\n",
      "           8       0.00      0.00      0.00        10\n",
      "           9       0.00      0.00      0.00         9\n",
      "          10       0.00      0.00      0.00        23\n",
      "          11       0.00      0.00      0.00         2\n",
      "          12       0.00      0.00      0.00         3\n",
      "          13       0.35      0.67      0.46         9\n",
      "          14       0.00      0.00      0.00        24\n",
      "          15       0.00      0.00      0.00        19\n",
      "          16       0.50      0.03      0.05        70\n",
      "\n",
      "    accuracy                           0.06       287\n",
      "   macro avg       0.06      0.08      0.05       287\n",
      "weighted avg       0.14      0.06      0.04       287\n",
      "\n",
      "F1: 0.0466, AUC: 0.5398\n"
     ]
    }
   ],
   "source": [
    "print(\"\\n🎯 TSTR Results\")\n",
    "print(classification_report(y_test_tstr_enc, pred_tstr))\n",
    "f1_tstr = f1_score(y_test_tstr_enc, pred_tstr, average='macro')\n",
    "auc_tstr = roc_auc_score(y_test_tstr_enc, model_tstr.predict_proba(X_test_tstr), multi_class='ovr')\n",
    "print(f\"F1: {f1_tstr:.4f}, AUC: {auc_tstr:.4f}\")\n"
   ]
  },
  {
   "cell_type": "markdown",
   "id": "1666d01d-dbb2-40e7-a41f-a0ce67bdef50",
   "metadata": {},
   "source": [
    "### Block 16: Compare F1 Scores"
   ]
  },
  {
   "cell_type": "code",
   "execution_count": 123,
   "id": "0d49e0f2-f56e-4ffe-b898-117fbe49ebf3",
   "metadata": {},
   "outputs": [
    {
     "data": {
      "image/png": "[encoded data removed]",
      "text/plain": [
       "<Figure size 640x480 with 1 Axes>"
      ]
     },
     "metadata": {},
     "output_type": "display_data"
    }
   ],
   "source": [
    "scores = pd.DataFrame({\n",
    "    'F1 Score': [f1_real, f1_aug, f1_sm, f1_tstr],\n",
    "    'AUC Score': [auc_real, auc_aug, auc_sm, auc_tstr]\n",
    "}, index=['Real Only', 'Real+CGAN', 'Real+SMOTE', 'TSTR'])\n",
    "scores['F1 Score'].plot(kind='bar', title=\"Macro F1 Comparison\")\n",
    "plt.ylabel(\"F1 Score\"); plt.grid(); plt.tight_layout()\n"
   ]
  },
  {
   "cell_type": "markdown",
   "id": "46bcece4-5ac9-482d-8808-4231c776bf58",
   "metadata": {},
   "source": [
    "### Block 17: AUC Comparison"
   ]
  },
  {
   "cell_type": "code",
   "execution_count": 124,
   "id": "f64fb879-c409-42d6-9b34-310f79e7418b",
   "metadata": {},
   "outputs": [
    {
     "data": {
      "image/png": "[encoded data removed]",
      "text/plain": [
       "<Figure size 640x480 with 1 Axes>"
      ]
     },
     "metadata": {},
     "output_type": "display_data"
    }
   ],
   "source": [
    "scores['AUC Score'].plot(kind='bar', title=\"Multiclass AUC Comparison\")\n",
    "plt.ylabel(\"AUC Score\"); plt.grid(); plt.tight_layout()\n"
   ]
  },
  {
   "cell_type": "markdown",
   "id": "9dcf1895-6795-40a2-a3ea-0d71e1616bb6",
   "metadata": {},
   "source": [
    "### Block 18: Per-Typology Recall"
   ]
  },
  {
   "cell_type": "code",
   "execution_count": 125,
   "id": "3a852c0a-a951-4d27-bc84-b6b93272f270",
   "metadata": {},
   "outputs": [
    {
     "data": {
      "image/png": "[encoded data removed]",
      "text/plain": [
       "<Figure size 640x480 with 1 Axes>"
      ]
     },
     "metadata": {},
     "output_type": "display_data"
    }
   ],
   "source": [
    "recall_by_typ = {}\n",
    "for typ in np.unique(y_test):\n",
    "    mask = (y_test == typ)\n",
    "    recall_by_typ[typ] = f1_score(y_test[mask], pred_aug[mask], average='macro', zero_division=0)\n",
    "pd.Series(recall_by_typ).plot(kind='bar', title=\"Per-Typology F1 Score (Real + CGAN)\")\n",
    "plt.tight_layout()\n"
   ]
  },
  {
   "cell_type": "markdown",
   "id": "c60b441c-8480-4af3-b7a9-9b69e25fa96a",
   "metadata": {},
   "source": [
    "### Block 19: Save Evaluation Summary"
   ]
  },
  {
   "cell_type": "code",
   "execution_count": 126,
   "id": "f911c03b-eb8e-49fc-a7e7-a79ec5349057",
   "metadata": {},
   "outputs": [],
   "source": [
    "scores.reset_index(inplace=True)\n",
    "scores.rename(columns={'index': 'Model'}, inplace=True)\n",
    "scores.to_csv(\"../outputs/eval_summary_phase3.csv\", index=False)\n"
   ]
  },
  {
   "cell_type": "markdown",
   "id": "e4886bbc-c806-425b-9f41-b940091701be",
   "metadata": {},
   "source": [
    "### Block 20: Save Trained Models"
   ]
  },
  {
   "cell_type": "code",
   "execution_count": 127,
   "id": "b148f7dd-3259-4156-aa95-b2e95f0a1884",
   "metadata": {},
   "outputs": [
    {
     "name": "stdout",
     "output_type": "stream",
     "text": [
      "\n",
      "✅ Phase 3 Complete: All models evaluated and saved.\n"
     ]
    }
   ],
   "source": [
    "joblib.dump(model_real, \"../outputs/model_real.pkl\")\n",
    "joblib.dump(model_aug, \"../outputs/model_aug_cgan.pkl\")\n",
    "joblib.dump(model_sm, \"../outputs/model_smote.pkl\")\n",
    "joblib.dump(model_tstr, \"../outputs/model_tstr.pkl\")\n",
    "print(\"\\n✅ Phase 3 Complete: All models evaluated and saved.\")\n"
   ]
  }
 ],
 "metadata": {
  "kernelspec": {
   "display_name": "Python 3 (ipykernel)",
   "language": "python",
   "name": "python3"
  },
  "language_info": {
   "codemirror_mode": {
    "name": "ipython",
    "version": 3
   },
   "file_extension": ".py",
   "mimetype": "text/x-python",
   "name": "python",
   "nbconvert_exporter": "python",
   "pygments_lexer": "ipython3",
   "version": "3.11.8"
  }
 },
 "nbformat": 4,
 "nbformat_minor": 5
}
